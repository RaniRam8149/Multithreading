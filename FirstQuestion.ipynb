Q1. What is multithreading in python? Why is it used? Name the module used to handle threads in python.
Multithreading in Python refers to the capability of a program to execute multiple threads concurrently, allowing multiple tasks to be performed simultaneously within the same process. 

Multithreading is used to maximize CPU utilization and to improve the responsiveness of applications by performing tasks concurrently. However, it's important to note that Python's Global Interpreter Lock (GIL) can limit the effectiveness of multithreading for CPU-bound tasks, as it prevents multiple native threads from executing Python bytecodes simultaneously. Therefore, multithreading is often more effective for I/O-bound tasks rather than CPU-bound ones.

The module used to handle threads in Python is called threading. It provides a high-level interface for creating and managing threads in Python programs. The threading module allows developers to easily create new threads, start them, 


and synchronize their execution if necessary, using constructs like locks, semaphores, and condition variables.
