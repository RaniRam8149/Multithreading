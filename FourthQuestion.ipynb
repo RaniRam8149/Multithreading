Q4. Write a python program to create two threads. Thread one must print the list of squares and thread two must print the list of cubes.
import threading

def print_squares():
    squares = [i ** 2 for i in range(1, 11)]
    print("List of squares:")
    for square in squares:
        print(square)

def print_cubes():
    cubes = [i ** 3 for i in range(1, 11)]
    print("List of cubes:")
    for cube in cubes:
        print(cube)

thread1 = threading.Thread(target=print_squares)
thread2 = threading.Thread(target=print_cubes)

thread1.start()
thread2.start()

thread1.join()
thread2.join()

print("Main thread exiting")
