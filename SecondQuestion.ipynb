Q2. Why threading module used? Write the use of the following functions:

1. activeCount()

2. currentThread()

3. enumerate()

Python threading allows you to have different parts of your program run concurrently and can simplify your design.

 1.activecount():-active_count() is an inbuilt method of the threading module,                    it is used to return the number of Thread objects that are active at any instant

  2.currentThread():-Returns the number of thread objects in the caller's thread control.

   3.enumerate():-Enumerate is a built-in function in python that allows you to keep track of the number of iterations (loops) in a loo

