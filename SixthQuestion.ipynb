Q6. Explain deadlocks and race conditions.

Deadlocks:

A deadlock occurs when two or more threads are waiting for each other to release resources that they need to proceed, resulting in a circular waiting dependency.
Deadlocks typically involve multiple threads and shared resources, such as locks or semaphores, where each thread holds one resource while waiting to acquire another.
Deadlocks can cause the affected threads to become unresponsive, leading to a halt in program execution.
Deadlocks are often challenging to detect and resolve, as they depend on specific timing and interleaving of thread execution.
Preventing deadlocks usually involves careful resource allocation and avoiding circular dependencies by establishing a strict ordering of resource acquisition or using techniques like deadlock detection and recovery.

Race Conditions:

A race condition occurs when the outcome of a program depends on the relative timing or interleaving of operations performed by multiple threads.
Race conditions typically arise when multiple threads access shared resources concurrently without proper synchronization, leading to unpredictable behavior.
Examples of shared resources prone to race conditions include variables, data structures, and file handles.
Race conditions can manifest as incorrect results, data corruption, or program crashes.
Preventing race conditions requires synchronizing access to shared resources using synchronization primitives such as locks, mutexes, semaphores, or atomic operations.
Additionally, designing thread-safe data structures and algorithms can help mitigate the risk of race conditions by ensuring that operations are performed atomically or in a mutually exclusive manner.

Race Condition And Deadlock
A race condition occurs when two threads use the same variable at a given time.
Deadlock exists when two threads seek one lock simultaneously. 
This situation will stop both threads from processing or executing the functions.
