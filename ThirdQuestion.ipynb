Q3. Explain the following functions:

1. run()
run(): The run() method is the entry point for the thread's activity. When a class derived from threading.Thread is instantiated and its start() method is called, the run() method is invoked internally to perform the thread's work. Developers should override this method in their subclass to define the specific task or functionality they want the thread to execute.

2. start()
start(): The start() method is used to start the execution of a thread. It initializes the thread, invokes the run() method, and begins its execution. Once a thread has been started, it will run concurrently with other threads until it completes its task or is terminated.

3. join()
join(): The join() method is used to block the calling thread until the thread on which it's called has completed its execution. This is useful when you want to wait for a thread to finish before proceeding with further operations. The optional timeout argument specifies the maximum time to wait for the thread to complete.

 4. is Alive()
isAlive(): The isAlive() method is used to check if a thread is currently executing or if it has finished its execution. It returns True if the thread is alive (i.e., still executing), and False otherwise.
